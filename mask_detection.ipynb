{
  "nbformat": 4,
  "nbformat_minor": 0,
  "metadata": {
    "colab": {
      "name": "mask detection.ipynb",
      "provenance": [],
      "mount_file_id": "1tRmdIPSfJ37VCJUWXHSLVp7-xFk-X9ot",
      "authorship_tag": "ABX9TyOc4Gm7EAdNVw7VeDB6M9+P",
      "include_colab_link": true
    },
    "kernelspec": {
      "name": "python3",
      "display_name": "Python 3"
    },
    "accelerator": "GPU"
  },
  "cells": [
    {
      "cell_type": "markdown",
      "metadata": {
        "id": "view-in-github",
        "colab_type": "text"
      },
      "source": [
        "<a href=\"https://colab.research.google.com/github/ak-ag/mask-detector/blob/main/mask_detection.ipynb\" target=\"_parent\"><img src=\"https://colab.research.google.com/assets/colab-badge.svg\" alt=\"Open In Colab\"/></a>"
      ]
    },
    {
      "cell_type": "code",
      "metadata": {
        "id": "-2V8HZBS3Dt8"
      },
      "source": [
        "from keras.optimizers import RMSprop\r\n",
        "from keras.preprocessing.image import ImageDataGenerator\r\n",
        "import cv2\r\n",
        "from keras.models import Sequential\r\n",
        "from keras.layers import Conv2D, Input, ZeroPadding2D, BatchNormalization, Activation, MaxPooling2D, Flatten, Dense,Dropout\r\n",
        "from keras.models import Model, load_model\r\n",
        "from keras.callbacks import TensorBoard, ModelCheckpoint\r\n",
        "from sklearn.model_selection import train_test_split\r\n",
        "from sklearn.metrics import f1_score\r\n",
        "from sklearn.utils import shuffle\r\n",
        "import imutils\r\n",
        "import numpy as np"
      ],
      "execution_count": 1,
      "outputs": []
    },
    {
      "cell_type": "code",
      "metadata": {
        "id": "Sr30HkuK3JzR"
      },
      "source": [
        "model = Sequential([\r\n",
        "    Conv2D(100, (3,3), activation='relu', input_shape=(150, 150, 3)),\r\n",
        "    MaxPooling2D(2,2),\r\n",
        "    \r\n",
        "    Conv2D(100, (3,3), activation='relu'),\r\n",
        "    MaxPooling2D(2,2),\r\n",
        "    \r\n",
        "    Flatten(),\r\n",
        "    Dropout(0.5),\r\n",
        "    Dense(50, activation='relu'),\r\n",
        "    Dense(2, activation='softmax')\r\n",
        "])\r\n",
        "model.compile(optimizer='adam', loss='binary_crossentropy', metrics=['acc'])"
      ],
      "execution_count": 2,
      "outputs": []
    },
    {
      "cell_type": "code",
      "metadata": {
        "colab": {
          "base_uri": "https://localhost:8080/"
        },
        "id": "v5Iq4WY53Wfh",
        "outputId": "19c4fa66-4d1d-4382-d20c-59987d554edc"
      },
      "source": [
        "TRAINING_DIR = \"/content/train/train\"\r\n",
        "train_datagen = ImageDataGenerator(rescale=1.0/255,\r\n",
        "                                   rotation_range=40,\r\n",
        "                                   width_shift_range=0.2,\r\n",
        "                                   height_shift_range=0.2,\r\n",
        "                                   shear_range=0.2,\r\n",
        "                                   zoom_range=0.2,\r\n",
        "                                   horizontal_flip=True,\r\n",
        "                                   fill_mode='nearest')\r\n",
        "\r\n",
        "train_generator = train_datagen.flow_from_directory(TRAINING_DIR, \r\n",
        "                                                    batch_size=10, \r\n",
        "                                                    target_size=(150, 150))\r\n",
        "VALIDATION_DIR = \"/content/test/test\"\r\n",
        "validation_datagen = ImageDataGenerator(rescale=1.0/255)\r\n",
        "\r\n",
        "validation_generator = validation_datagen.flow_from_directory(VALIDATION_DIR, \r\n",
        "                                                         batch_size=10, \r\n",
        "                                                         target_size=(150, 150))"
      ],
      "execution_count": 14,
      "outputs": [
        {
          "output_type": "stream",
          "text": [
            "Found 1315 images belonging to 2 classes.\n",
            "Found 194 images belonging to 2 classes.\n"
          ],
          "name": "stdout"
        }
      ]
    },
    {
      "cell_type": "code",
      "metadata": {
        "id": "EaWcqnin3Ylt"
      },
      "source": [
        "checkpoint = ModelCheckpoint('model2-{epoch:03d}.model',monitor='val_loss',verbose=0,save_best_only=True,mode='auto')"
      ],
      "execution_count": 15,
      "outputs": []
    },
    {
      "cell_type": "code",
      "metadata": {
        "colab": {
          "base_uri": "https://localhost:8080/"
        },
        "id": "XbBzNGaN4E26",
        "outputId": "cffeef7f-e844-4d2f-ec6f-e26bedf0a803"
      },
      "source": [
        "history = model.fit_generator(train_generator,\r\n",
        "                              epochs=10,\r\n",
        "                              validation_data=validation_generator,\r\n",
        "                              callbacks=[checkpoint])"
      ],
      "execution_count": 16,
      "outputs": [
        {
          "output_type": "stream",
          "text": [
            "/usr/local/lib/python3.6/dist-packages/tensorflow/python/keras/engine/training.py:1844: UserWarning: `Model.fit_generator` is deprecated and will be removed in a future version. Please use `Model.fit`, which supports generators.\n",
            "  warnings.warn('`Model.fit_generator` is deprecated and '\n"
          ],
          "name": "stderr"
        },
        {
          "output_type": "stream",
          "text": [
            "Epoch 1/10\n",
            "132/132 [==============================] - 21s 103ms/step - loss: 0.6598 - acc: 0.6710 - val_loss: 0.1992 - val_acc: 0.9330\n",
            "INFO:tensorflow:Assets written to: model2-001.model/assets\n",
            "Epoch 2/10\n",
            "132/132 [==============================] - 13s 101ms/step - loss: 0.3305 - acc: 0.8665 - val_loss: 0.2086 - val_acc: 0.9124\n",
            "Epoch 3/10\n",
            "132/132 [==============================] - 13s 101ms/step - loss: 0.3400 - acc: 0.8728 - val_loss: 0.1749 - val_acc: 0.9845\n",
            "INFO:tensorflow:Assets written to: model2-003.model/assets\n",
            "Epoch 4/10\n",
            "132/132 [==============================] - 13s 102ms/step - loss: 0.2544 - acc: 0.8943 - val_loss: 0.0881 - val_acc: 0.9742\n",
            "INFO:tensorflow:Assets written to: model2-004.model/assets\n",
            "Epoch 5/10\n",
            "132/132 [==============================] - 13s 102ms/step - loss: 0.2518 - acc: 0.9070 - val_loss: 0.0771 - val_acc: 0.9742\n",
            "INFO:tensorflow:Assets written to: model2-005.model/assets\n",
            "Epoch 6/10\n",
            "132/132 [==============================] - 14s 103ms/step - loss: 0.2365 - acc: 0.9128 - val_loss: 0.0682 - val_acc: 0.9845\n",
            "INFO:tensorflow:Assets written to: model2-006.model/assets\n",
            "Epoch 7/10\n",
            "132/132 [==============================] - 13s 102ms/step - loss: 0.2490 - acc: 0.9051 - val_loss: 0.1366 - val_acc: 0.9381\n",
            "Epoch 8/10\n",
            "132/132 [==============================] - 13s 101ms/step - loss: 0.1937 - acc: 0.9271 - val_loss: 0.0649 - val_acc: 0.9742\n",
            "INFO:tensorflow:Assets written to: model2-008.model/assets\n",
            "Epoch 9/10\n",
            "132/132 [==============================] - 13s 101ms/step - loss: 0.1977 - acc: 0.9274 - val_loss: 0.0436 - val_acc: 0.9845\n",
            "INFO:tensorflow:Assets written to: model2-009.model/assets\n",
            "Epoch 10/10\n",
            "132/132 [==============================] - 13s 100ms/step - loss: 0.1996 - acc: 0.9138 - val_loss: 0.1022 - val_acc: 0.9536\n"
          ],
          "name": "stdout"
        }
      ]
    },
    {
      "cell_type": "code",
      "metadata": {
        "colab": {
          "base_uri": "https://localhost:8080/"
        },
        "id": "El4dOqer4vTp",
        "outputId": "a37de92f-6dc6-41a3-a961-a531da5ed513"
      },
      "source": [
        "!python test.py"
      ],
      "execution_count": 20,
      "outputs": [
        {
          "output_type": "stream",
          "text": [
            "2020-12-21 10:50:50.209127: I tensorflow/stream_executor/platform/default/dso_loader.cc:49] Successfully opened dynamic library libcudart.so.10.1\n",
            "2020-12-21 10:50:51.775265: I tensorflow/compiler/jit/xla_cpu_device.cc:41] Not creating XLA devices, tf_xla_enable_xla_devices not set\n",
            "2020-12-21 10:50:51.776217: I tensorflow/stream_executor/platform/default/dso_loader.cc:49] Successfully opened dynamic library libcuda.so.1\n",
            "2020-12-21 10:50:51.780432: I tensorflow/stream_executor/cuda/cuda_gpu_executor.cc:941] successful NUMA node read from SysFS had negative value (-1), but there must be at least one NUMA node, so returning NUMA node zero\n",
            "2020-12-21 10:50:51.780897: I tensorflow/core/common_runtime/gpu/gpu_device.cc:1720] Found device 0 with properties: \n",
            "pciBusID: 0000:00:04.0 name: Tesla T4 computeCapability: 7.5\n",
            "coreClock: 1.59GHz coreCount: 40 deviceMemorySize: 14.73GiB deviceMemoryBandwidth: 298.08GiB/s\n",
            "2020-12-21 10:50:51.780939: I tensorflow/stream_executor/platform/default/dso_loader.cc:49] Successfully opened dynamic library libcudart.so.10.1\n",
            "2020-12-21 10:50:51.782382: I tensorflow/stream_executor/platform/default/dso_loader.cc:49] Successfully opened dynamic library libcublas.so.10\n",
            "2020-12-21 10:50:51.782443: I tensorflow/stream_executor/platform/default/dso_loader.cc:49] Successfully opened dynamic library libcublasLt.so.10\n",
            "2020-12-21 10:50:51.783922: I tensorflow/stream_executor/platform/default/dso_loader.cc:49] Successfully opened dynamic library libcufft.so.10\n",
            "2020-12-21 10:50:51.784227: I tensorflow/stream_executor/platform/default/dso_loader.cc:49] Successfully opened dynamic library libcurand.so.10\n",
            "2020-12-21 10:50:51.785793: I tensorflow/stream_executor/platform/default/dso_loader.cc:49] Successfully opened dynamic library libcusolver.so.10\n",
            "2020-12-21 10:50:51.787024: I tensorflow/stream_executor/platform/default/dso_loader.cc:49] Successfully opened dynamic library libcusparse.so.10\n",
            "2020-12-21 10:50:51.790586: I tensorflow/stream_executor/platform/default/dso_loader.cc:49] Successfully opened dynamic library libcudnn.so.7\n",
            "2020-12-21 10:50:51.790701: I tensorflow/stream_executor/cuda/cuda_gpu_executor.cc:941] successful NUMA node read from SysFS had negative value (-1), but there must be at least one NUMA node, so returning NUMA node zero\n",
            "2020-12-21 10:50:51.791167: I tensorflow/stream_executor/cuda/cuda_gpu_executor.cc:941] successful NUMA node read from SysFS had negative value (-1), but there must be at least one NUMA node, so returning NUMA node zero\n",
            "2020-12-21 10:50:51.791573: I tensorflow/core/common_runtime/gpu/gpu_device.cc:1862] Adding visible gpu devices: 0\n",
            "2020-12-21 10:50:51.791920: I tensorflow/compiler/jit/xla_gpu_device.cc:99] Not creating XLA devices, tf_xla_enable_xla_devices not set\n",
            "2020-12-21 10:50:51.792047: I tensorflow/stream_executor/cuda/cuda_gpu_executor.cc:941] successful NUMA node read from SysFS had negative value (-1), but there must be at least one NUMA node, so returning NUMA node zero\n",
            "2020-12-21 10:50:51.792512: I tensorflow/core/common_runtime/gpu/gpu_device.cc:1720] Found device 0 with properties: \n",
            "pciBusID: 0000:00:04.0 name: Tesla T4 computeCapability: 7.5\n",
            "coreClock: 1.59GHz coreCount: 40 deviceMemorySize: 14.73GiB deviceMemoryBandwidth: 298.08GiB/s\n",
            "2020-12-21 10:50:51.792544: I tensorflow/stream_executor/platform/default/dso_loader.cc:49] Successfully opened dynamic library libcudart.so.10.1\n",
            "2020-12-21 10:50:51.792578: I tensorflow/stream_executor/platform/default/dso_loader.cc:49] Successfully opened dynamic library libcublas.so.10\n",
            "2020-12-21 10:50:51.792601: I tensorflow/stream_executor/platform/default/dso_loader.cc:49] Successfully opened dynamic library libcublasLt.so.10\n",
            "2020-12-21 10:50:51.792636: I tensorflow/stream_executor/platform/default/dso_loader.cc:49] Successfully opened dynamic library libcufft.so.10\n",
            "2020-12-21 10:50:51.792661: I tensorflow/stream_executor/platform/default/dso_loader.cc:49] Successfully opened dynamic library libcurand.so.10\n",
            "2020-12-21 10:50:51.792682: I tensorflow/stream_executor/platform/default/dso_loader.cc:49] Successfully opened dynamic library libcusolver.so.10\n",
            "2020-12-21 10:50:51.792701: I tensorflow/stream_executor/platform/default/dso_loader.cc:49] Successfully opened dynamic library libcusparse.so.10\n",
            "2020-12-21 10:50:51.792719: I tensorflow/stream_executor/platform/default/dso_loader.cc:49] Successfully opened dynamic library libcudnn.so.7\n",
            "2020-12-21 10:50:51.792782: I tensorflow/stream_executor/cuda/cuda_gpu_executor.cc:941] successful NUMA node read from SysFS had negative value (-1), but there must be at least one NUMA node, so returning NUMA node zero\n",
            "2020-12-21 10:50:51.793248: I tensorflow/stream_executor/cuda/cuda_gpu_executor.cc:941] successful NUMA node read from SysFS had negative value (-1), but there must be at least one NUMA node, so returning NUMA node zero\n",
            "2020-12-21 10:50:51.793708: I tensorflow/core/common_runtime/gpu/gpu_device.cc:1862] Adding visible gpu devices: 0\n",
            "2020-12-21 10:50:51.793752: I tensorflow/stream_executor/platform/default/dso_loader.cc:49] Successfully opened dynamic library libcudart.so.10.1\n",
            "2020-12-21 10:50:52.496350: I tensorflow/core/common_runtime/gpu/gpu_device.cc:1261] Device interconnect StreamExecutor with strength 1 edge matrix:\n",
            "2020-12-21 10:50:52.496405: I tensorflow/core/common_runtime/gpu/gpu_device.cc:1267]      0 \n",
            "2020-12-21 10:50:52.496420: I tensorflow/core/common_runtime/gpu/gpu_device.cc:1280] 0:   N \n",
            "2020-12-21 10:50:52.496596: I tensorflow/stream_executor/cuda/cuda_gpu_executor.cc:941] successful NUMA node read from SysFS had negative value (-1), but there must be at least one NUMA node, so returning NUMA node zero\n",
            "2020-12-21 10:50:52.497180: I tensorflow/stream_executor/cuda/cuda_gpu_executor.cc:941] successful NUMA node read from SysFS had negative value (-1), but there must be at least one NUMA node, so returning NUMA node zero\n",
            "2020-12-21 10:50:52.497677: I tensorflow/stream_executor/cuda/cuda_gpu_executor.cc:941] successful NUMA node read from SysFS had negative value (-1), but there must be at least one NUMA node, so returning NUMA node zero\n",
            "2020-12-21 10:50:52.498128: W tensorflow/core/common_runtime/gpu/gpu_bfc_allocator.cc:39] Overriding allow_growth setting because the TF_FORCE_GPU_ALLOW_GROWTH environment variable is set. Original config value was 0.\n",
            "2020-12-21 10:50:52.498176: I tensorflow/core/common_runtime/gpu/gpu_device.cc:1406] Created TensorFlow device (/job:localhost/replica:0/task:0/device:GPU:0 with 10019 MB memory) -> physical GPU (device: 0, name: Tesla T4, pci bus id: 0000:00:04.0, compute capability: 7.5)\n",
            "[ WARN:0] global /io/opencv/modules/videoio/src/cap_v4l.cpp (802) open VIDEOIO ERROR: V4L: can't open camera by index 0\n",
            "Traceback (most recent call last):\n",
            "  File \"test.py\", line 20, in <module>\n",
            "    rerect_size = cv2.resize(im, (im.shape[1] // rect_size, im.shape[0] // rect_size))\n",
            "AttributeError: 'NoneType' object has no attribute 'shape'\n"
          ],
          "name": "stdout"
        }
      ]
    },
    {
      "cell_type": "code",
      "metadata": {
        "id": "7PH4tbcf5Z_5"
      },
      "source": [
        ""
      ],
      "execution_count": null,
      "outputs": []
    }
  ]
}